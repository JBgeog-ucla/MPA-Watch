{
 "cells": [
  {
   "cell_type": "code",
   "execution_count": 1,
   "id": "0f00daeb",
   "metadata": {},
   "outputs": [],
   "source": [
    "import os\n",
    "import numpy as np\n",
    "import pandas as pd\n",
    "import matplotlib.pyplot as plt\n",
    "import pandas as pd\n",
    "import glob "
   ]
  },
  {
   "cell_type": "code",
   "execution_count": 2,
   "id": "d297f7d2",
   "metadata": {},
   "outputs": [],
   "source": [
    "#creating path to CESM2 historical tas r4\n",
    "mpa_path = \"/Users/jenniferbadger/Dropbox/MPA Decadal/sbck\"\n",
    "\n",
    "#makes list of paths\n",
    "all_csv = glob.glob(os.path.join(mpa_path, \"*.csv\"))"
   ]
  },
  {
   "cell_type": "code",
   "execution_count": 3,
   "id": "a05635ba",
   "metadata": {},
   "outputs": [
    {
     "data": {
      "text/plain": [
       "['/Users/jenniferbadger/Dropbox/MPA Decadal/sbck/ALL DATA_SBCK BOAT MPA Data Master Northern Channel ISLANDS.xlsx - CI_Data.csv',\n",
       " '/Users/jenniferbadger/Dropbox/MPA Decadal/sbck/SBCK boat MPA Watch ALL DATA_coastal .xlsx - 2013-2022 SBCK coastal boat.csv']"
      ]
     },
     "execution_count": 3,
     "metadata": {},
     "output_type": "execute_result"
    }
   ],
   "source": [
    "all_csv"
   ]
  },
  {
   "cell_type": "code",
   "execution_count": 5,
   "id": "81caa9f6",
   "metadata": {},
   "outputs": [],
   "source": [
    "#For loop to grab filename\n",
    "#read in CSVs\n",
    "#convert Quantity field from obj to int\n",
    "#drop fields after 'field_18'\n",
    "#repeat row obsv based on quantity field\n",
    "#write back out as expnd_file_name.csv\n",
    "\n",
    "for file in all_csv:\n",
    "    # Getting the file name without extension\n",
    "    file_name = os.path.splitext(os.path.basename(file))[0]\n",
    "    df = pd.read_csv(f\"/Users/jenniferbadger/Dropbox/MPA Decadal/sbck/{file_name}.csv\")\n",
    "    df = df.fillna(0)\n",
    "    df['Quantity'] = df['Quantity'].astype(str).astype(float).astype(int)\n",
    "    df = df.drop(df.loc[:, 'Region2':].columns, axis=1)\n",
    "    df_expnd = df.loc[df.index.repeat(df.Quantity)]\n",
    "    df_expnd.to_csv(f\"/Users/jenniferbadger/Dropbox/MPA Decadal/sbck/expnd_{file_name}.csv\") "
   ]
  },
  {
   "cell_type": "code",
   "execution_count": null,
   "id": "52f5f134",
   "metadata": {},
   "outputs": [],
   "source": []
  }
 ],
 "metadata": {
  "kernelspec": {
   "display_name": "Python 3 (ipykernel)",
   "language": "python",
   "name": "python3"
  },
  "language_info": {
   "codemirror_mode": {
    "name": "ipython",
    "version": 3
   },
   "file_extension": ".py",
   "mimetype": "text/x-python",
   "name": "python",
   "nbconvert_exporter": "python",
   "pygments_lexer": "ipython3",
   "version": "3.8.15"
  }
 },
 "nbformat": 4,
 "nbformat_minor": 5
}
